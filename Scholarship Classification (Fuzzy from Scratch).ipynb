{
  "nbformat": 4,
  "nbformat_minor": 0,
  "metadata": {
    "colab": {
      "name": "Fuzzy (Mamdani) from Scratch",
      "provenance": [],
      "collapsed_sections": [
        "wdspbDKLVhhC"
      ]
    },
    "kernelspec": {
      "name": "python3",
      "display_name": "Python 3"
    }
  },
  "cells": [
    {
      "cell_type": "markdown",
      "metadata": {
        "id": "flKiBWSOKsR1"
      },
      "source": [
        "## **LIBRARY**"
      ]
    },
    {
      "cell_type": "code",
      "metadata": {
        "id": "r_Nl6B_tBVS7"
      },
      "source": [
        "import pandas as pd\n",
        "from google.colab import files\n",
        "import io\n",
        "import matplotlib.pyplot as plt\n",
        "import numpy as np\n",
        "import random"
      ],
      "execution_count": null,
      "outputs": []
    },
    {
      "cell_type": "markdown",
      "metadata": {
        "id": "X49BCCymK0Uc"
      },
      "source": [
        "## **READING EXCEL FILE**"
      ]
    },
    {
      "cell_type": "code",
      "metadata": {
        "id": "-B1nEOpoAJ1U"
      },
      "source": [
        "# Membaca file excel\n",
        "uploaded = files.upload()\n",
        "df = pd.read_excel(io.BytesIO(uploaded['Mahasiswa.xls']))"
      ],
      "execution_count": null,
      "outputs": []
    },
    {
      "cell_type": "code",
      "metadata": {
        "id": "lNDVzDnvzTNT"
      },
      "source": [
        "# Memasukkan nilai2 yang berada pada excel ke array listMahasiwa\n",
        "listMahasiswa = [[df['Id'][i], df['Penghasilan'][i], df['Pengeluaran'][i], (df['Penghasilan'][i] - df['Pengeluaran'][i])] for i in range(len(df))]"
      ],
      "execution_count": null,
      "outputs": []
    },
    {
      "cell_type": "markdown",
      "metadata": {
        "id": "_6eVVZWjK7xX"
      },
      "source": [
        "## **DESIGN THE MEMBERSHIP FUNCTIONS**"
      ]
    },
    {
      "cell_type": "code",
      "metadata": {
        "id": "OdtGjERr7UvH"
      },
      "source": [
        "# PENGHASILAN\n",
        "def incomeTinggi(a):\n",
        "  if a <= 10:\n",
        "    return 0\n",
        "  elif a > 17:\n",
        "    return 1\n",
        "  else:\n",
        "    return (a - 10) / (17 - 10)\n",
        "\n",
        "def incomeRendah(a):\n",
        "  if a <= 3:\n",
        "    return 1\n",
        "  elif a > 5:\n",
        "    return 0\n",
        "  else:\n",
        "    return (5 - a) / (5 - 3)\n",
        "\n",
        "def incomeMenengah(a):\n",
        "  if a <= 3 or a > 17:\n",
        "    return 0\n",
        "  elif a > 3 and a <= 8:\n",
        "    return (a - 3) / (8 - 3)\n",
        "  elif a > 8 and a <= 12:\n",
        "    return 1\n",
        "  elif a > 12 and a <= 17:\n",
        "    return (17 - a) / (17 - 12)\n",
        "\n",
        "# SISA UANG\n",
        "def hemat(a):\n",
        "  if a <= 2:\n",
        "    return 0\n",
        "  elif a > 3:\n",
        "    return 1\n",
        "  else:\n",
        "    return (a - 2) / (3 - 2)\n",
        "\n",
        "def boros(a):\n",
        "  if a <= -1:\n",
        "    return 1\n",
        "  elif a > 1:\n",
        "    return 0\n",
        "  else:\n",
        "    return (1 - a) / (1 - -1)\n",
        "\n",
        "def normal(a):\n",
        "  if a <= -1 or a > 3:\n",
        "    return 0\n",
        "  elif a > -1 and a <= 1.25:\n",
        "    return (a - -1) / (1.25 - -1)\n",
        "  elif a > 1.25 and a <= 2.5:\n",
        "    return 1\n",
        "  elif a > 2.5 and a <= 3:\n",
        "    return (3 - a) / (3 - 2.5)"
      ],
      "execution_count": null,
      "outputs": []
    },
    {
      "cell_type": "code",
      "metadata": {
        "id": "t52XK9AZAKAL",
        "colab": {
          "base_uri": "https://localhost:8080/",
          "height": 282
        },
        "outputId": "dd75bc48-e65b-4390-8daf-de5647e1de36"
      },
      "source": [
        "grafik = np.arange(0, 20, 0.1)\n",
        "plt.plot(grafik,[incomeTinggi(x) for x in grafik], label='Tinggi')\n",
        "plt.plot(grafik,[incomeRendah(x) for x in grafik], label='Rendah')\n",
        "plt.plot(grafik,[incomeMenengah(x) for x in grafik], label='Menengah')\n",
        "plt.legend()"
      ],
      "execution_count": null,
      "outputs": [
        {
          "output_type": "execute_result",
          "data": {
            "text/plain": [
              "<matplotlib.legend.Legend at 0x7f4c757554a8>"
            ]
          },
          "metadata": {
            "tags": []
          },
          "execution_count": 105
        },
        {
          "output_type": "display_data",
          "data": {
            "image/png": "[encoded data removed]",
            "text/plain": [
              "<Figure size 432x288 with 1 Axes>"
            ]
          },
          "metadata": {
            "tags": [],
            "needs_background": "light"
          }
        }
      ]
    },
    {
      "cell_type": "code",
      "metadata": {
        "id": "Z-qr34czAKke",
        "colab": {
          "base_uri": "https://localhost:8080/",
          "height": 282
        },
        "outputId": "0d58f013-f837-4ec7-c917-30911604b7aa"
      },
      "source": [
        "grafik = np.arange(-3.1, 11, 0.1)\n",
        "plt.plot(grafik,[boros(x) for x in grafik], label='Boros')\n",
        "plt.plot(grafik,[hemat(x) for x in grafik], label='Hemat')\n",
        "plt.plot(grafik,[normal(x) for x in grafik], label='Normal')\n",
        "plt.legend()"
      ],
      "execution_count": null,
      "outputs": [
        {
          "output_type": "execute_result",
          "data": {
            "text/plain": [
              "<matplotlib.legend.Legend at 0x7f4c756c9ef0>"
            ]
          },
          "metadata": {
            "tags": []
          },
          "execution_count": 106
        },
        {
          "output_type": "display_data",
          "data": {
            "image/png": "[encoded data removed]",
            "text/plain": [
              "<Figure size 432x288 with 1 Axes>"
            ]
          },
          "metadata": {
            "tags": [],
            "needs_background": "light"
          }
        }
      ]
    },
    {
      "cell_type": "markdown",
      "metadata": {
        "id": "mNzUtfGh-xA0"
      },
      "source": [
        "## **FUZZIFICATION**"
      ]
    },
    {
      "cell_type": "code",
      "metadata": {
        "id": "eNCRtD2x9vq_"
      },
      "source": [
        "# Memasukkan Fuzzification ke list\n",
        "listIncome = [[listMahasiswa[i][0], incomeTinggi(listMahasiswa[i][1]), incomeRendah(listMahasiswa[i][1]), incomeMenengah(listMahasiswa[i][1])] for i in range(len(listMahasiswa))]\n",
        "listSisa = [[listMahasiswa[i][0], boros(listMahasiswa[i][3]), hemat(listMahasiswa[i][3]), normal(listMahasiswa[i][3])] for i in range(len(listMahasiswa))]"
      ],
      "execution_count": null,
      "outputs": []
    },
    {
      "cell_type": "markdown",
      "metadata": {
        "id": "ZPRZeDQsN14J"
      },
      "source": [
        "## **INFERENCE**\n",
        "\n",
        "\n"
      ]
    },
    {
      "cell_type": "markdown",
      "metadata": {
        "id": "c2FrV1Rt91Ws"
      },
      "source": [
        "| PENGHASILAN | SISA | SCORE |\n",
        "| --- | --- | --- |\n",
        "| TINGGI | BOROS | DITOLAK |\n",
        "| TINGGI | HEMAT | DITOLAK |\n",
        "| TINGGI | NORMAL | DITOLAK |\n",
        "| RENDAH | BOROS | DITERIMA |\n",
        "| RENDAH | HEMAT | DITERIMA |\n",
        "| RENDAH | NORMAL | DITERIMA |\n",
        "| MENENGAH | BOROS | DITERIMA |\n",
        "| MENENGAH | HEMAT | DIPERTIMBANGKAN |\n",
        "| MENENGAH | NORMAL | DIPERTIMBANGKAN |"
      ]
    },
    {
      "cell_type": "code",
      "metadata": {
        "id": "gk5LW6CI-dWq"
      },
      "source": [
        "listInference = []\n",
        "for i in range(len(listMahasiswa)):\n",
        "  listTerima = []\n",
        "  listTolak = []\n",
        "  listPertimbangan = []\n",
        "\n",
        "  listTolak.append(min(listIncome[i][1], listSisa[i][1]))\n",
        "  listTolak.append(min(listIncome[i][1], listSisa[i][2]))\n",
        "  listTolak.append(min(listIncome[i][1], listSisa[i][3]))\n",
        "\n",
        "  listTerima.append(min(listIncome[i][2], listSisa[i][1]))\n",
        "  listTerima.append(min(listIncome[i][2], listSisa[i][2]))\n",
        "  listTerima.append(min(listIncome[i][2], listSisa[i][3]))\n",
        "  listTerima.append(min(listIncome[i][3], listSisa[i][1]))\n",
        "\n",
        "  listPertimbangan.append(min(listIncome[i][3], listSisa[i][2]))\n",
        "  listPertimbangan.append(min(listIncome[i][3], listSisa[i][3]))\n",
        "\n",
        "  terima = max(listTerima)\n",
        "  tolak = max(listTolak)\n",
        "  pertimbangan = max(listPertimbangan)\n",
        "\n",
        "  listInference.append([listMahasiswa[i][0], terima, tolak, pertimbangan])"
      ],
      "execution_count": null,
      "outputs": []
    },
    {
      "cell_type": "markdown",
      "metadata": {
        "id": "wdspbDKLVhhC"
      },
      "source": [
        "## **DEFUZZIFICATION - SUGENO**"
      ]
    },
    {
      "cell_type": "code",
      "metadata": {
        "id": "kHRhXn-EVlAM"
      },
      "source": [
        "# nilaiTerima = 90\n",
        "# nilaiPertimbangan = 70\n",
        "# nilaiTolak = 45\n",
        "# listNK = [[listMahasiswa[i][0], ((listInference[i][1]*nilaiTerima) + (listInference[i][2]*nilaiTolak) + (listInference[i][3]*nilaiPertimbangan)) / (listInference[i][1] + listInference[i][2] + listInference[i][3])] for i in range(len(listInference))]"
      ],
      "execution_count": null,
      "outputs": []
    },
    {
      "cell_type": "markdown",
      "metadata": {
        "id": "KYsox6un4i5b"
      },
      "source": [
        "## **DEFUZZIFICATION - MAMDANI**"
      ]
    },
    {
      "cell_type": "code",
      "metadata": {
        "id": "8tyaPsSe7j1I"
      },
      "source": [
        "# Membership Mamdani\n",
        "def accepted(a):\n",
        "  if a > 80:\n",
        "    return 1\n",
        "  elif a <= 60:\n",
        "    return 0\n",
        "  else:\n",
        "    return (a - 60) / (80 - 60)\n",
        "\n",
        "def rejected(a):\n",
        "  if a <= 40:\n",
        "    return 1\n",
        "  elif a > 60:\n",
        "    return 0\n",
        "  else:\n",
        "    return (60 - a) / (60 - 40)\n",
        "\n",
        "def considered(a):\n",
        "  if a <= 40 or a > 80:\n",
        "    return 0\n",
        "  elif a > 40 and a < 60:\n",
        "    return (a - 40) / (60 - 40)\n",
        "  elif a == 60:\n",
        "    return 1\n",
        "  elif a > 60 and a <= 80:\n",
        "    return (80 - a) / (80 - 60)"
      ],
      "execution_count": null,
      "outputs": []
    },
    {
      "cell_type": "code",
      "metadata": {
        "id": "dUyw6o6G9QaL",
        "colab": {
          "base_uri": "https://localhost:8080/",
          "height": 282
        },
        "outputId": "285254f1-8295-47d6-ebda-98c1371ec1c8"
      },
      "source": [
        "grafik = np.arange(0, 100, 0.1)\n",
        "plt.plot(grafik,[accepted(x) for x in grafik], label='Accepted')\n",
        "plt.plot(grafik,[rejected(x) for x in grafik], label='Rejected')\n",
        "plt.plot(grafik,[considered(x) for x in grafik], label='Considered')\n",
        "plt.legend()"
      ],
      "execution_count": null,
      "outputs": [
        {
          "output_type": "execute_result",
          "data": {
            "text/plain": [
              "<matplotlib.legend.Legend at 0x7f4c7564c7f0>"
            ]
          },
          "metadata": {
            "tags": []
          },
          "execution_count": 111
        },
        {
          "output_type": "display_data",
          "data": {
            "image/png": "[encoded data removed]",
            "text/plain": [
              "<Figure size 432x288 with 1 Axes>"
            ]
          },
          "metadata": {
            "tags": [],
            "needs_background": "light"
          }
        }
      ]
    },
    {
      "cell_type": "code",
      "metadata": {
        "id": "v_P4wKdb4ijX"
      },
      "source": [
        "angkaRandom = []\n",
        "for i in range(3):\n",
        "  kecil = []\n",
        "  sedang = []\n",
        "  besar = []\n",
        "  kecil.append(random.randint(0, 60))\n",
        "  sedang.append(random.randint(40, 80))\n",
        "  besar.append(random.randint(60, 100))\n",
        "angkaRandom = kecil + sedang + besar\n",
        "angkaRandom.sort()\n",
        "\n",
        "listNK = []\n",
        "for i in range(len(listInference)):\n",
        "  membershipRandom = []\n",
        "  for j in range(len(angkaRandom)):\n",
        "    terima = accepted(angkaRandom[j])\n",
        "    tolak = rejected(angkaRandom[j])\n",
        "    dipertimbangkan = considered(angkaRandom[j])\n",
        "\n",
        "    if accepted(angkaRandom[j]) > listInference[i][1]:\n",
        "      terima = listInference[i][1]\n",
        "    if rejected(angkaRandom[j]) > listInference[i][2]:\n",
        "      tolak = listInference[i][2]\n",
        "    if considered(angkaRandom[j]) > listInference[i][3]:\n",
        "      dipertimbangkan = listInference[i][3]\n",
        "\n",
        "    nilai = max(terima, tolak, dipertimbangkan)\n",
        "\n",
        "    membershipRandom.append([angkaRandom[j], nilai])\n",
        "  \n",
        "  a = 0\n",
        "  b = 0\n",
        "  for j in range(len(membershipRandom)):\n",
        "    a = a + (membershipRandom[j][0] * membershipRandom[j][1])\n",
        "    b += membershipRandom[j][1]\n",
        "  \n",
        "  z = a / b\n",
        "  listNK.append([listInference[i][0], z])"
      ],
      "execution_count": null,
      "outputs": []
    },
    {
      "cell_type": "markdown",
      "metadata": {
        "id": "zjSvya8Hl4YA"
      },
      "source": [
        "## **SORTING**"
      ]
    },
    {
      "cell_type": "code",
      "metadata": {
        "id": "isFvbIY3RbEr"
      },
      "source": [
        "# Sorting berdasarkan nilai kelayakan terbesar\n",
        "def sortNK(elem):\n",
        "  return elem[1]\n",
        "listNK = sorted(listNK, key=sortNK, reverse=True)\n",
        "\n",
        "# Masukkan ID mahasiswa ke dalam listBeasiswa\n",
        "listBeasiswa = [listNK[i][0] for i in range(20)]\n",
        "\n",
        "# Masukkan Nilai Kelayakan ke dalam listNilaiKelayakan\n",
        "listNilaiKelayakan = [listNK[i][1] for i in range(20)]"
      ],
      "execution_count": null,
      "outputs": []
    },
    {
      "cell_type": "markdown",
      "metadata": {
        "id": "uO-kwSFBadyj"
      },
      "source": [
        "## **MAIN PROGRAM**"
      ]
    },
    {
      "cell_type": "code",
      "metadata": {
        "id": "qfDMNmrsWziQ",
        "colab": {
          "base_uri": "https://localhost:8080/"
        },
        "outputId": "95a84e38-9957-4669-bf23-e4cd555296af"
      },
      "source": [
        "print('Mahasiswa yang mendapatkan beasiswa\\nID:', listBeasiswa, '\\nNilai Kelayakan:', listNilaiKelayakan)"
      ],
      "execution_count": null,
      "outputs": [
        {
          "output_type": "stream",
          "text": [
            "Mahasiswa yang mendapatkan beasiswa\n",
            "ID: [4, 33, 41, 49, 50, 75, 79, 94, 25, 38, 99, 11, 13, 69, 52, 46, 7, 81, 47, 66] \n",
            "Nilai Kelayakan: [97.0, 97.0, 97.0, 97.0, 97.0, 97.0, 97.0, 97.0, 96.99999999999999, 94.63758389261747, 93.24480628860192, 93.14879649890591, 90.46938775510202, 88.38531587933979, 86.3211219232971, 86.11340206185565, 83.18013856812934, 82.33333333333334, 79.55393586005827, 79.55393586005827]\n"
          ],
          "name": "stdout"
        }
      ]
    },
    {
      "cell_type": "markdown",
      "metadata": {
        "id": "FHQ76ST_9rpK"
      },
      "source": [
        "## **WRITE FILES**"
      ]
    },
    {
      "cell_type": "code",
      "metadata": {
        "id": "qJ3t1SYt9qv1"
      },
      "source": [
        "bantuan = pd.DataFrame(np.asarray(listBeasiswa), columns=['id'])\n",
        "bantuan.to_excel(\"Bantuan.xlsx\", index=False)\n",
        "files.download('Bantuan.xlsx')"
      ],
      "execution_count": null,
      "outputs": []
    }
  ]
}